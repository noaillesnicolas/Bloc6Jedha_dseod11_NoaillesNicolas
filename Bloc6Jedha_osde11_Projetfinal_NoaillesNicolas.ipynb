{
 "cells": [
  {
   "cell_type": "markdown",
   "metadata": {},
   "source": [
    "![alt text](Lefilmest-ilunsuccès.png)"
   ]
  },
  {
   "cell_type": "markdown",
   "metadata": {},
   "source": [
    "# Prédire le succès d'un film"
   ]
  },
  {
   "cell_type": "markdown",
   "metadata": {},
   "source": [
    "L'objectif de ce projet est de déterminer si un film est susceptible d'être considéré comme un succès en se basant sur certains critères et sur les données disponibles dans notre dataset, qui recense les 1000 meilleurs films selon IMDb.. Le succès d'un film peut être défini de différentes manières, mais dans notre cas, nous le définissons comme un film ayant atteint un certain seuil par rapport aux colonnes 'rating', 'metascore' et 'gross'.\n",
    "\n",
    "En utilisant des techniques de régression logistique et d'arbre de décision, nous cherchons à construire ce modèle qui peut prédire si le film est un succès ou non.\n",
    "\n",
    "Avec des critères clés tels que les évaluations du public et des critiques, ainsi que les performances financières des films, le modèle développé dans ce projet peut servir de guide pour l'allocation des ressources dans la production de nouveaux films. Les studios pourront identifier les caractéristiques et les stratégies associées aux succès passés, ce qui leur permettra d'ajuster leurs futurs investissements et de maximiser leurs chances de réussite.\n",
    "\n",
    "En résumé, ce projet permettra par exemple aux entreprises cinématographiques de tirer des leçons des succès et des échecs passés, et d'utiliser ces connaissances pour orienter leurs décisions d'investissement dans les futurs projets cinématographiques, réduisant ainsi les risques financiers et augmentant les chances de succès sur le marché."
   ]
  },
  {
   "cell_type": "markdown",
   "metadata": {},
   "source": [
    "# IMDb \n",
    "\n",
    "Abréviation de Internet Movie Database, est une base de données en ligne qui recense des informations sur les films, les émissions de télévision, les séries, les jeux vidéo et les personnalités du monde du divertissement. Créée en 1990, IMDb est devenue une ressource incontournable pour les cinéphiles, les professionnels de l'industrie du divertissement et les médias. Elle propose des informations telles que les synopsis, les castings, les notes des utilisateurs, les critiques de films, les données de production et bien plus encore."
   ]
  },
  {
   "cell_type": "markdown",
   "metadata": {},
   "source": [
    "# Qui sera susceptible d'utiliser la solution à notre problème ?\n",
    "\n",
    "\n",
    "La solution à notre problème pourrait être utilisée par plusieurs parties prenantes dans l'industrie cinématographique et dans d'autres domaines connexes :\n",
    "\n",
    "- Critiques de cinéma et médias spécialisés\n",
    "- Distributeurs et exploitants des salles de cinéma\n",
    "- Studios de cinéma et producteurs\n",
    "- Investisseurs et financiers"
   ]
  },
  {
   "cell_type": "code",
   "execution_count": 2,
   "metadata": {},
   "outputs": [],
   "source": [
    "import pandas as pd\n",
    "import numpy as np \n",
    "import matplotlib.pyplot as plt \n",
    "import seaborn as sns \n",
    "from sklearn.model_selection import train_test_split\n",
    "from sklearn.preprocessing import StandardScaler, OneHotEncoder\n",
    "from sklearn.compose import ColumnTransformer\n",
    "from sklearn.linear_model import LogisticRegression\n",
    "from sklearn.tree import DecisionTreeClassifier\n",
    "from sklearn.ensemble import RandomForestClassifier\n",
    "from sklearn.metrics import confusion_matrix, ConfusionMatrixDisplay\n",
    "from sklearn.metrics import accuracy_score, confusion_matrix"
   ]
  },
  {
   "cell_type": "code",
   "execution_count": 3,
   "metadata": {},
   "outputs": [],
   "source": [
    "df=pd.read_csv('imdb_raw_2.csv')"
   ]
  },
  {
   "cell_type": "code",
   "execution_count": 4,
   "metadata": {},
   "outputs": [
    {
     "data": {
      "text/html": [
       "<div>\n",
       "<style scoped>\n",
       "    .dataframe tbody tr th:only-of-type {\n",
       "        vertical-align: middle;\n",
       "    }\n",
       "\n",
       "    .dataframe tbody tr th {\n",
       "        vertical-align: top;\n",
       "    }\n",
       "\n",
       "    .dataframe thead th {\n",
       "        text-align: right;\n",
       "    }\n",
       "</style>\n",
       "<table border=\"1\" class=\"dataframe\">\n",
       "  <thead>\n",
       "    <tr style=\"text-align: right;\">\n",
       "      <th></th>\n",
       "      <th>title</th>\n",
       "      <th>director</th>\n",
       "      <th>release_year</th>\n",
       "      <th>runtime</th>\n",
       "      <th>genre</th>\n",
       "      <th>rating</th>\n",
       "      <th>metascore</th>\n",
       "      <th>gross</th>\n",
       "    </tr>\n",
       "  </thead>\n",
       "  <tbody>\n",
       "    <tr>\n",
       "      <th>0</th>\n",
       "      <td>The Shawshank Redemption</td>\n",
       "      <td>Frank Darabont</td>\n",
       "      <td>(1994)</td>\n",
       "      <td>142 min</td>\n",
       "      <td>Drama</td>\n",
       "      <td>9.3</td>\n",
       "      <td>82</td>\n",
       "      <td>$28.34M</td>\n",
       "    </tr>\n",
       "    <tr>\n",
       "      <th>1</th>\n",
       "      <td>The Godfather</td>\n",
       "      <td>Francis Ford Coppola</td>\n",
       "      <td>(1972)</td>\n",
       "      <td>175 min</td>\n",
       "      <td>Crime, Drama</td>\n",
       "      <td>9.2</td>\n",
       "      <td>100</td>\n",
       "      <td>$134.97M</td>\n",
       "    </tr>\n",
       "    <tr>\n",
       "      <th>2</th>\n",
       "      <td>The Dark Knight</td>\n",
       "      <td>Christopher Nolan</td>\n",
       "      <td>(2008)</td>\n",
       "      <td>152 min</td>\n",
       "      <td>Action, Crime, Drama</td>\n",
       "      <td>9.0</td>\n",
       "      <td>84</td>\n",
       "      <td>$534.86M</td>\n",
       "    </tr>\n",
       "    <tr>\n",
       "      <th>3</th>\n",
       "      <td>Schindler's List</td>\n",
       "      <td>Steven Spielberg</td>\n",
       "      <td>(1993)</td>\n",
       "      <td>195 min</td>\n",
       "      <td>Biography, Drama, History</td>\n",
       "      <td>9.0</td>\n",
       "      <td>95</td>\n",
       "      <td>$96.90M</td>\n",
       "    </tr>\n",
       "    <tr>\n",
       "      <th>4</th>\n",
       "      <td>12 Angry Men</td>\n",
       "      <td>Sidney Lumet</td>\n",
       "      <td>(1957)</td>\n",
       "      <td>96 min</td>\n",
       "      <td>Crime, Drama</td>\n",
       "      <td>9.0</td>\n",
       "      <td>97</td>\n",
       "      <td>$4.36M</td>\n",
       "    </tr>\n",
       "  </tbody>\n",
       "</table>\n",
       "</div>"
      ],
      "text/plain": [
       "                      title              director release_year  runtime  \\\n",
       "0  The Shawshank Redemption        Frank Darabont       (1994)  142 min   \n",
       "1             The Godfather  Francis Ford Coppola       (1972)  175 min   \n",
       "2           The Dark Knight     Christopher Nolan       (2008)  152 min   \n",
       "3          Schindler's List      Steven Spielberg       (1993)  195 min   \n",
       "4              12 Angry Men          Sidney Lumet       (1957)   96 min   \n",
       "\n",
       "                       genre  rating  metascore     gross  \n",
       "0                      Drama     9.3         82   $28.34M  \n",
       "1               Crime, Drama     9.2        100  $134.97M  \n",
       "2       Action, Crime, Drama     9.0         84  $534.86M  \n",
       "3  Biography, Drama, History     9.0         95   $96.90M  \n",
       "4               Crime, Drama     9.0         97    $4.36M  "
      ]
     },
     "execution_count": 4,
     "metadata": {},
     "output_type": "execute_result"
    }
   ],
   "source": [
    "df.head()"
   ]
  },
  {
   "cell_type": "code",
   "execution_count": 5,
   "metadata": {},
   "outputs": [
    {
     "data": {
      "text/plain": [
       "1000"
      ]
     },
     "execution_count": 5,
     "metadata": {},
     "output_type": "execute_result"
    }
   ],
   "source": [
    "len(df)"
   ]
  },
  {
   "cell_type": "code",
   "execution_count": 6,
   "metadata": {},
   "outputs": [
    {
     "data": {
      "text/html": [
       "<div>\n",
       "<style scoped>\n",
       "    .dataframe tbody tr th:only-of-type {\n",
       "        vertical-align: middle;\n",
       "    }\n",
       "\n",
       "    .dataframe tbody tr th {\n",
       "        vertical-align: top;\n",
       "    }\n",
       "\n",
       "    .dataframe thead th {\n",
       "        text-align: right;\n",
       "    }\n",
       "</style>\n",
       "<table border=\"1\" class=\"dataframe\">\n",
       "  <thead>\n",
       "    <tr style=\"text-align: right;\">\n",
       "      <th></th>\n",
       "      <th>title</th>\n",
       "      <th>director</th>\n",
       "      <th>release_year</th>\n",
       "      <th>runtime</th>\n",
       "      <th>genre</th>\n",
       "      <th>rating</th>\n",
       "      <th>metascore</th>\n",
       "      <th>gross</th>\n",
       "    </tr>\n",
       "  </thead>\n",
       "  <tbody>\n",
       "    <tr>\n",
       "      <th>count</th>\n",
       "      <td>1000</td>\n",
       "      <td>1000</td>\n",
       "      <td>1000</td>\n",
       "      <td>1000</td>\n",
       "      <td>1000</td>\n",
       "      <td>1000.00000</td>\n",
       "      <td>1000.000000</td>\n",
       "      <td>1000</td>\n",
       "    </tr>\n",
       "    <tr>\n",
       "      <th>unique</th>\n",
       "      <td>994</td>\n",
       "      <td>560</td>\n",
       "      <td>123</td>\n",
       "      <td>142</td>\n",
       "      <td>195</td>\n",
       "      <td>NaN</td>\n",
       "      <td>NaN</td>\n",
       "      <td>709</td>\n",
       "    </tr>\n",
       "    <tr>\n",
       "      <th>top</th>\n",
       "      <td>Beauty and the Beast</td>\n",
       "      <td>Alfred Hitchcock</td>\n",
       "      <td>(2014)</td>\n",
       "      <td>130 min</td>\n",
       "      <td>Drama</td>\n",
       "      <td>NaN</td>\n",
       "      <td>NaN</td>\n",
       "      <td>0</td>\n",
       "    </tr>\n",
       "    <tr>\n",
       "      <th>freq</th>\n",
       "      <td>2</td>\n",
       "      <td>12</td>\n",
       "      <td>28</td>\n",
       "      <td>24</td>\n",
       "      <td>91</td>\n",
       "      <td>NaN</td>\n",
       "      <td>NaN</td>\n",
       "      <td>188</td>\n",
       "    </tr>\n",
       "    <tr>\n",
       "      <th>mean</th>\n",
       "      <td>NaN</td>\n",
       "      <td>NaN</td>\n",
       "      <td>NaN</td>\n",
       "      <td>NaN</td>\n",
       "      <td>NaN</td>\n",
       "      <td>7.96870</td>\n",
       "      <td>66.653000</td>\n",
       "      <td>NaN</td>\n",
       "    </tr>\n",
       "    <tr>\n",
       "      <th>std</th>\n",
       "      <td>NaN</td>\n",
       "      <td>NaN</td>\n",
       "      <td>NaN</td>\n",
       "      <td>NaN</td>\n",
       "      <td>NaN</td>\n",
       "      <td>0.27562</td>\n",
       "      <td>30.712829</td>\n",
       "      <td>NaN</td>\n",
       "    </tr>\n",
       "    <tr>\n",
       "      <th>min</th>\n",
       "      <td>NaN</td>\n",
       "      <td>NaN</td>\n",
       "      <td>NaN</td>\n",
       "      <td>NaN</td>\n",
       "      <td>NaN</td>\n",
       "      <td>7.60000</td>\n",
       "      <td>0.000000</td>\n",
       "      <td>NaN</td>\n",
       "    </tr>\n",
       "    <tr>\n",
       "      <th>25%</th>\n",
       "      <td>NaN</td>\n",
       "      <td>NaN</td>\n",
       "      <td>NaN</td>\n",
       "      <td>NaN</td>\n",
       "      <td>NaN</td>\n",
       "      <td>7.80000</td>\n",
       "      <td>64.750000</td>\n",
       "      <td>NaN</td>\n",
       "    </tr>\n",
       "    <tr>\n",
       "      <th>50%</th>\n",
       "      <td>NaN</td>\n",
       "      <td>NaN</td>\n",
       "      <td>NaN</td>\n",
       "      <td>NaN</td>\n",
       "      <td>NaN</td>\n",
       "      <td>7.90000</td>\n",
       "      <td>77.000000</td>\n",
       "      <td>NaN</td>\n",
       "    </tr>\n",
       "    <tr>\n",
       "      <th>75%</th>\n",
       "      <td>NaN</td>\n",
       "      <td>NaN</td>\n",
       "      <td>NaN</td>\n",
       "      <td>NaN</td>\n",
       "      <td>NaN</td>\n",
       "      <td>8.10000</td>\n",
       "      <td>86.000000</td>\n",
       "      <td>NaN</td>\n",
       "    </tr>\n",
       "    <tr>\n",
       "      <th>max</th>\n",
       "      <td>NaN</td>\n",
       "      <td>NaN</td>\n",
       "      <td>NaN</td>\n",
       "      <td>NaN</td>\n",
       "      <td>NaN</td>\n",
       "      <td>9.30000</td>\n",
       "      <td>100.000000</td>\n",
       "      <td>NaN</td>\n",
       "    </tr>\n",
       "  </tbody>\n",
       "</table>\n",
       "</div>"
      ],
      "text/plain": [
       "                       title          director release_year  runtime  genre  \\\n",
       "count                   1000              1000         1000     1000   1000   \n",
       "unique                   994               560          123      142    195   \n",
       "top     Beauty and the Beast  Alfred Hitchcock       (2014)  130 min  Drama   \n",
       "freq                       2                12           28       24     91   \n",
       "mean                     NaN               NaN          NaN      NaN    NaN   \n",
       "std                      NaN               NaN          NaN      NaN    NaN   \n",
       "min                      NaN               NaN          NaN      NaN    NaN   \n",
       "25%                      NaN               NaN          NaN      NaN    NaN   \n",
       "50%                      NaN               NaN          NaN      NaN    NaN   \n",
       "75%                      NaN               NaN          NaN      NaN    NaN   \n",
       "max                      NaN               NaN          NaN      NaN    NaN   \n",
       "\n",
       "            rating    metascore gross  \n",
       "count   1000.00000  1000.000000  1000  \n",
       "unique         NaN          NaN   709  \n",
       "top            NaN          NaN     0  \n",
       "freq           NaN          NaN   188  \n",
       "mean       7.96870    66.653000   NaN  \n",
       "std        0.27562    30.712829   NaN  \n",
       "min        7.60000     0.000000   NaN  \n",
       "25%        7.80000    64.750000   NaN  \n",
       "50%        7.90000    77.000000   NaN  \n",
       "75%        8.10000    86.000000   NaN  \n",
       "max        9.30000   100.000000   NaN  "
      ]
     },
     "execution_count": 6,
     "metadata": {},
     "output_type": "execute_result"
    }
   ],
   "source": [
    "df.describe(include='all')"
   ]
  },
  {
   "cell_type": "markdown",
   "metadata": {},
   "source": [
    "# Quelques graphiques réalisés sur Tableau "
   ]
  },
  {
   "cell_type": "markdown",
   "metadata": {},
   "source": [
    "![alt text](grossvsfilms.png)"
   ]
  },
  {
   "cell_type": "markdown",
   "metadata": {},
   "source": [
    "![alt text](genrevstotal.png)"
   ]
  },
  {
   "cell_type": "markdown",
   "metadata": {},
   "source": [
    "![alt text](réalisateurrevenus.png)"
   ]
  },
  {
   "cell_type": "markdown",
   "metadata": {},
   "source": [
    "# Remplacement de certaines valeurs et changement de type de colonne"
   ]
  },
  {
   "cell_type": "code",
   "execution_count": 7,
   "metadata": {},
   "outputs": [
    {
     "name": "stdout",
     "output_type": "stream",
     "text": [
      "title            object\n",
      "director         object\n",
      "release_year     object\n",
      "runtime          object\n",
      "genre            object\n",
      "rating          float64\n",
      "metascore         int64\n",
      "gross            object\n",
      "dtype: object\n"
     ]
    }
   ],
   "source": [
    "print(df.dtypes)"
   ]
  },
  {
   "cell_type": "code",
   "execution_count": 8,
   "metadata": {},
   "outputs": [],
   "source": [
    "df['metascore'] = df['metascore'].astype(float)\n",
    "\n",
    "df['gross'] = df['gross'].str.replace('$', '')\n",
    "df['gross'] = df['gross'].str.replace('M', '')\n",
    "df['gross'] = df['gross'].astype(float)"
   ]
  },
  {
   "cell_type": "code",
   "execution_count": 9,
   "metadata": {},
   "outputs": [
    {
     "name": "stdout",
     "output_type": "stream",
     "text": [
      "title            object\n",
      "director         object\n",
      "release_year     object\n",
      "runtime          object\n",
      "genre            object\n",
      "rating          float64\n",
      "metascore       float64\n",
      "gross           float64\n",
      "dtype: object\n"
     ]
    }
   ],
   "source": [
    "print(df.dtypes)"
   ]
  },
  {
   "cell_type": "code",
   "execution_count": 10,
   "metadata": {},
   "outputs": [],
   "source": [
    "\n",
    "median_gross1 = df['rating'].median()\n",
    "df['rating'] = df['rating'].replace(0.00, median_gross1)\n",
    "\n",
    "\n",
    "median_gross2 = df['metascore'].median()\n",
    "df['metascore'] = df['metascore'].replace(0.00, median_gross2) \n",
    "\n",
    "\n",
    "median_gross3 = df['gross'].median()\n",
    "df['gross'] = df['gross'].replace(0.00, median_gross3)"
   ]
  },
  {
   "cell_type": "code",
   "execution_count": 11,
   "metadata": {},
   "outputs": [
    {
     "data": {
      "text/html": [
       "<div>\n",
       "<style scoped>\n",
       "    .dataframe tbody tr th:only-of-type {\n",
       "        vertical-align: middle;\n",
       "    }\n",
       "\n",
       "    .dataframe tbody tr th {\n",
       "        vertical-align: top;\n",
       "    }\n",
       "\n",
       "    .dataframe thead th {\n",
       "        text-align: right;\n",
       "    }\n",
       "</style>\n",
       "<table border=\"1\" class=\"dataframe\">\n",
       "  <thead>\n",
       "    <tr style=\"text-align: right;\">\n",
       "      <th></th>\n",
       "      <th>title</th>\n",
       "      <th>director</th>\n",
       "      <th>release_year</th>\n",
       "      <th>runtime</th>\n",
       "      <th>genre</th>\n",
       "      <th>rating</th>\n",
       "      <th>metascore</th>\n",
       "      <th>gross</th>\n",
       "    </tr>\n",
       "  </thead>\n",
       "  <tbody>\n",
       "    <tr>\n",
       "      <th>0</th>\n",
       "      <td>The Shawshank Redemption</td>\n",
       "      <td>Frank Darabont</td>\n",
       "      <td>(1994)</td>\n",
       "      <td>142 min</td>\n",
       "      <td>Drama</td>\n",
       "      <td>9.3</td>\n",
       "      <td>82.0</td>\n",
       "      <td>28.34</td>\n",
       "    </tr>\n",
       "    <tr>\n",
       "      <th>1</th>\n",
       "      <td>The Godfather</td>\n",
       "      <td>Francis Ford Coppola</td>\n",
       "      <td>(1972)</td>\n",
       "      <td>175 min</td>\n",
       "      <td>Crime, Drama</td>\n",
       "      <td>9.2</td>\n",
       "      <td>100.0</td>\n",
       "      <td>134.97</td>\n",
       "    </tr>\n",
       "    <tr>\n",
       "      <th>2</th>\n",
       "      <td>The Dark Knight</td>\n",
       "      <td>Christopher Nolan</td>\n",
       "      <td>(2008)</td>\n",
       "      <td>152 min</td>\n",
       "      <td>Action, Crime, Drama</td>\n",
       "      <td>9.0</td>\n",
       "      <td>84.0</td>\n",
       "      <td>534.86</td>\n",
       "    </tr>\n",
       "    <tr>\n",
       "      <th>3</th>\n",
       "      <td>Schindler's List</td>\n",
       "      <td>Steven Spielberg</td>\n",
       "      <td>(1993)</td>\n",
       "      <td>195 min</td>\n",
       "      <td>Biography, Drama, History</td>\n",
       "      <td>9.0</td>\n",
       "      <td>95.0</td>\n",
       "      <td>96.90</td>\n",
       "    </tr>\n",
       "    <tr>\n",
       "      <th>4</th>\n",
       "      <td>12 Angry Men</td>\n",
       "      <td>Sidney Lumet</td>\n",
       "      <td>(1957)</td>\n",
       "      <td>96 min</td>\n",
       "      <td>Crime, Drama</td>\n",
       "      <td>9.0</td>\n",
       "      <td>97.0</td>\n",
       "      <td>4.36</td>\n",
       "    </tr>\n",
       "  </tbody>\n",
       "</table>\n",
       "</div>"
      ],
      "text/plain": [
       "                      title              director release_year  runtime  \\\n",
       "0  The Shawshank Redemption        Frank Darabont       (1994)  142 min   \n",
       "1             The Godfather  Francis Ford Coppola       (1972)  175 min   \n",
       "2           The Dark Knight     Christopher Nolan       (2008)  152 min   \n",
       "3          Schindler's List      Steven Spielberg       (1993)  195 min   \n",
       "4              12 Angry Men          Sidney Lumet       (1957)   96 min   \n",
       "\n",
       "                       genre  rating  metascore   gross  \n",
       "0                      Drama     9.3       82.0   28.34  \n",
       "1               Crime, Drama     9.2      100.0  134.97  \n",
       "2       Action, Crime, Drama     9.0       84.0  534.86  \n",
       "3  Biography, Drama, History     9.0       95.0   96.90  \n",
       "4               Crime, Drama     9.0       97.0    4.36  "
      ]
     },
     "execution_count": 11,
     "metadata": {},
     "output_type": "execute_result"
    }
   ],
   "source": [
    "df.head()"
   ]
  },
  {
   "cell_type": "markdown",
   "metadata": {},
   "source": [
    "# Suppression si présence de doublons "
   ]
  },
  {
   "cell_type": "code",
   "execution_count": 12,
   "metadata": {},
   "outputs": [
    {
     "name": "stdout",
     "output_type": "stream",
     "text": [
      "Nombre de lignes avant la suppression des doublons : 1000\n",
      "Nombre de lignes après la suppression des doublons : 1000\n"
     ]
    }
   ],
   "source": [
    "\n",
    "df_unique = df.drop_duplicates()\n",
    "\n",
    "\n",
    "print(\"Nombre de lignes avant la suppression des doublons :\", len(df))\n",
    "print(\"Nombre de lignes après la suppression des doublons :\", len(df_unique))"
   ]
  },
  {
   "cell_type": "code",
   "execution_count": 13,
   "metadata": {},
   "outputs": [],
   "source": [
    "df= df_unique"
   ]
  },
  {
   "cell_type": "markdown",
   "metadata": {},
   "source": [
    "# Remplacement des valeurs manquantes "
   ]
  },
  {
   "cell_type": "code",
   "execution_count": 14,
   "metadata": {},
   "outputs": [
    {
     "data": {
      "text/plain": [
       "title           False\n",
       "director        False\n",
       "release_year    False\n",
       "runtime         False\n",
       "genre           False\n",
       "rating          False\n",
       "metascore       False\n",
       "gross           False\n",
       "dtype: bool"
      ]
     },
     "execution_count": 14,
     "metadata": {},
     "output_type": "execute_result"
    }
   ],
   "source": [
    "df.isnull().any() "
   ]
  },
  {
   "cell_type": "markdown",
   "metadata": {},
   "source": [
    "# Création de la colonne 'success'"
   ]
  },
  {
   "cell_type": "code",
   "execution_count": 15,
   "metadata": {},
   "outputs": [
    {
     "name": "stdout",
     "output_type": "stream",
     "text": [
      "           rating    metascore        gross\n",
      "count  1000.00000  1000.000000  1000.000000\n",
      "mean      7.96870    78.665000    59.554100\n",
      "std       0.27562    11.037237   108.281161\n",
      "min       7.60000    28.000000     0.010000\n",
      "25%       7.80000    73.000000     5.095000\n",
      "50%       7.90000    77.000000     9.420000\n",
      "75%       8.10000    86.000000    60.167500\n",
      "max       9.30000   100.000000   936.660000\n"
     ]
    }
   ],
   "source": [
    "print(df[['rating', 'metascore', 'gross']].describe())"
   ]
  },
  {
   "cell_type": "code",
   "execution_count": 16,
   "metadata": {},
   "outputs": [],
   "source": [
    "\n",
    "seuil_rating = 7.96 \n",
    "seuil_metascore = 78.66  \n",
    "seuil_gross = 9.42\n",
    "df['success'] = ((df['rating'] >= seuil_rating) & (df['metascore'] > seuil_metascore) & (df['gross'] > seuil_gross)).astype(int)"
   ]
  },
  {
   "cell_type": "markdown",
   "metadata": {},
   "source": [
    "La valeur 1 dans la colonne \"success\" est associée à un film considéré comme un succès, tandis que la valeur 0 est associée à un film non considéré comme un succès."
   ]
  },
  {
   "cell_type": "markdown",
   "metadata": {},
   "source": [
    "# Séparation des variables indépendantes et dépendantes"
   ]
  },
  {
   "cell_type": "code",
   "execution_count": 17,
   "metadata": {},
   "outputs": [],
   "source": [
    "X = df[['rating', 'metascore', 'gross']]\n",
    "y = df['success']"
   ]
  },
  {
   "cell_type": "markdown",
   "metadata": {},
   "source": [
    "# Séparation train / test "
   ]
  },
  {
   "cell_type": "code",
   "execution_count": 18,
   "metadata": {},
   "outputs": [],
   "source": [
    "X_train, X_test, y_train, y_test = train_test_split(X, y, \n",
    "                                                    test_size=0.2, \n",
    "                                                    random_state=0, \n",
    "                                                    stratify=y)"
   ]
  },
  {
   "cell_type": "markdown",
   "metadata": {},
   "source": [
    "# Normalisation des données numériques sur le train set "
   ]
  },
  {
   "cell_type": "code",
   "execution_count": 19,
   "metadata": {},
   "outputs": [
    {
     "data": {
      "text/plain": [
       "array([[-0.23475765, -0.33999952,  1.73855445],\n",
       "       [ 0.50029565,  0.29276795, -0.56989492],\n",
       "       [ 1.23534896, -1.87672054,  2.48079923],\n",
       "       [-1.3373376 ,  1.01593078, -0.25843042],\n",
       "       [ 0.50029565, -0.15920882, -0.47722535]])"
      ]
     },
     "execution_count": 19,
     "metadata": {},
     "output_type": "execute_result"
    }
   ],
   "source": [
    "std = StandardScaler()\n",
    "X_train = std.fit_transform(X_train)\n",
    "X_train[:5] "
   ]
  },
  {
   "cell_type": "markdown",
   "metadata": {},
   "source": [
    "# Régression logistique"
   ]
  },
  {
   "cell_type": "code",
   "execution_count": 20,
   "metadata": {},
   "outputs": [
    {
     "data": {
      "text/html": [
       "<style>#sk-container-id-1 {color: black;background-color: white;}#sk-container-id-1 pre{padding: 0;}#sk-container-id-1 div.sk-toggleable {background-color: white;}#sk-container-id-1 label.sk-toggleable__label {cursor: pointer;display: block;width: 100%;margin-bottom: 0;padding: 0.3em;box-sizing: border-box;text-align: center;}#sk-container-id-1 label.sk-toggleable__label-arrow:before {content: \"▸\";float: left;margin-right: 0.25em;color: #696969;}#sk-container-id-1 label.sk-toggleable__label-arrow:hover:before {color: black;}#sk-container-id-1 div.sk-estimator:hover label.sk-toggleable__label-arrow:before {color: black;}#sk-container-id-1 div.sk-toggleable__content {max-height: 0;max-width: 0;overflow: hidden;text-align: left;background-color: #f0f8ff;}#sk-container-id-1 div.sk-toggleable__content pre {margin: 0.2em;color: black;border-radius: 0.25em;background-color: #f0f8ff;}#sk-container-id-1 input.sk-toggleable__control:checked~div.sk-toggleable__content {max-height: 200px;max-width: 100%;overflow: auto;}#sk-container-id-1 input.sk-toggleable__control:checked~label.sk-toggleable__label-arrow:before {content: \"▾\";}#sk-container-id-1 div.sk-estimator input.sk-toggleable__control:checked~label.sk-toggleable__label {background-color: #d4ebff;}#sk-container-id-1 div.sk-label input.sk-toggleable__control:checked~label.sk-toggleable__label {background-color: #d4ebff;}#sk-container-id-1 input.sk-hidden--visually {border: 0;clip: rect(1px 1px 1px 1px);clip: rect(1px, 1px, 1px, 1px);height: 1px;margin: -1px;overflow: hidden;padding: 0;position: absolute;width: 1px;}#sk-container-id-1 div.sk-estimator {font-family: monospace;background-color: #f0f8ff;border: 1px dotted black;border-radius: 0.25em;box-sizing: border-box;margin-bottom: 0.5em;}#sk-container-id-1 div.sk-estimator:hover {background-color: #d4ebff;}#sk-container-id-1 div.sk-parallel-item::after {content: \"\";width: 100%;border-bottom: 1px solid gray;flex-grow: 1;}#sk-container-id-1 div.sk-label:hover label.sk-toggleable__label {background-color: #d4ebff;}#sk-container-id-1 div.sk-serial::before {content: \"\";position: absolute;border-left: 1px solid gray;box-sizing: border-box;top: 0;bottom: 0;left: 50%;z-index: 0;}#sk-container-id-1 div.sk-serial {display: flex;flex-direction: column;align-items: center;background-color: white;padding-right: 0.2em;padding-left: 0.2em;position: relative;}#sk-container-id-1 div.sk-item {position: relative;z-index: 1;}#sk-container-id-1 div.sk-parallel {display: flex;align-items: stretch;justify-content: center;background-color: white;position: relative;}#sk-container-id-1 div.sk-item::before, #sk-container-id-1 div.sk-parallel-item::before {content: \"\";position: absolute;border-left: 1px solid gray;box-sizing: border-box;top: 0;bottom: 0;left: 50%;z-index: -1;}#sk-container-id-1 div.sk-parallel-item {display: flex;flex-direction: column;z-index: 1;position: relative;background-color: white;}#sk-container-id-1 div.sk-parallel-item:first-child::after {align-self: flex-end;width: 50%;}#sk-container-id-1 div.sk-parallel-item:last-child::after {align-self: flex-start;width: 50%;}#sk-container-id-1 div.sk-parallel-item:only-child::after {width: 0;}#sk-container-id-1 div.sk-dashed-wrapped {border: 1px dashed gray;margin: 0 0.4em 0.5em 0.4em;box-sizing: border-box;padding-bottom: 0.4em;background-color: white;}#sk-container-id-1 div.sk-label label {font-family: monospace;font-weight: bold;display: inline-block;line-height: 1.2em;}#sk-container-id-1 div.sk-label-container {text-align: center;}#sk-container-id-1 div.sk-container {/* jupyter's `normalize.less` sets `[hidden] { display: none; }` but bootstrap.min.css set `[hidden] { display: none !important; }` so we also need the `!important` here to be able to override the default hidden behavior on the sphinx rendered scikit-learn.org. See: https://github.com/scikit-learn/scikit-learn/issues/21755 */display: inline-block !important;position: relative;}#sk-container-id-1 div.sk-text-repr-fallback {display: none;}</style><div id=\"sk-container-id-1\" class=\"sk-top-container\"><div class=\"sk-text-repr-fallback\"><pre>LogisticRegression()</pre><b>In a Jupyter environment, please rerun this cell to show the HTML representation or trust the notebook. <br />On GitHub, the HTML representation is unable to render, please try loading this page with nbviewer.org.</b></div><div class=\"sk-container\" hidden><div class=\"sk-item\"><div class=\"sk-estimator sk-toggleable\"><input class=\"sk-toggleable__control sk-hidden--visually\" id=\"sk-estimator-id-1\" type=\"checkbox\" checked><label for=\"sk-estimator-id-1\" class=\"sk-toggleable__label sk-toggleable__label-arrow\">LogisticRegression</label><div class=\"sk-toggleable__content\"><pre>LogisticRegression()</pre></div></div></div></div></div>"
      ],
      "text/plain": [
       "LogisticRegression()"
      ]
     },
     "execution_count": 20,
     "metadata": {},
     "output_type": "execute_result"
    }
   ],
   "source": [
    "classifier = LogisticRegression()\n",
    "classifier.fit(X_train, y_train)"
   ]
  },
  {
   "cell_type": "markdown",
   "metadata": {},
   "source": [
    "# Modèle d'entrainement"
   ]
  },
  {
   "cell_type": "code",
   "execution_count": 21,
   "metadata": {},
   "outputs": [
    {
     "name": "stdout",
     "output_type": "stream",
     "text": [
      "Modèle d'entrainement...\n",
      "...Fait.\n"
     ]
    }
   ],
   "source": [
    "print(\"Modèle d'entrainement...\")\n",
    "classifier = LogisticRegression(random_state = 0) \n",
    "classifier.fit(X_train, y_train) \n",
    "print(\"...Fait.\")"
   ]
  },
  {
   "cell_type": "markdown",
   "metadata": {},
   "source": [
    "# Prédiction sur le train set "
   ]
  },
  {
   "cell_type": "code",
   "execution_count": 22,
   "metadata": {},
   "outputs": [
    {
     "name": "stdout",
     "output_type": "stream",
     "text": [
      "Predictions sur le set d'entrainement...\n",
      "...Terminer.\n",
      "\n",
      "#### Les 5 premières prédiction du set d'entrainement ####\n",
      "[0 0 0 0 0]\n"
     ]
    }
   ],
   "source": [
    "print(\"Predictions sur le set d'entrainement...\")\n",
    "y_train_pred = classifier.predict(X_train)\n",
    "print(\"...Terminer.\")\n",
    "print()\n",
    "\n",
    "print(\"#### Les 5 premières prédiction du set d'entrainement ####\")\n",
    "print(y_train_pred[0:5])"
   ]
  },
  {
   "cell_type": "markdown",
   "metadata": {},
   "source": [
    "# Normalisation des données numériques sur le test set "
   ]
  },
  {
   "cell_type": "code",
   "execution_count": 23,
   "metadata": {},
   "outputs": [
    {
     "name": "stdout",
     "output_type": "stream",
     "text": [
      "[[-0.6022843  -1.15355771 -0.11720554]\n",
      " [ 0.132769    0.92553543 -0.55509148]\n",
      " [ 0.50029565 -0.15920882 -0.47722535]\n",
      " [ 0.86782231 -0.15920882 -0.55647313]\n",
      " [ 0.132769   -1.87672054 -0.56742768]]\n"
     ]
    }
   ],
   "source": [
    "\n",
    "X_test= std.transform(X_test)\n",
    "\n",
    "\n",
    "print(X_test[:5])"
   ]
  },
  {
   "cell_type": "markdown",
   "metadata": {},
   "source": [
    "# Prédiction sur le test set "
   ]
  },
  {
   "cell_type": "code",
   "execution_count": 24,
   "metadata": {},
   "outputs": [
    {
     "name": "stdout",
     "output_type": "stream",
     "text": [
      "Prédictions sur le set de test ...\n",
      "...Terminer.\n",
      "\n",
      "#### Les 5 premières prédictions sur le set de test sont :  ####\n",
      "[0 0 0 0 0]\n"
     ]
    }
   ],
   "source": [
    "print(\"Prédictions sur le set de test ...\")\n",
    "y_test_pred = classifier.predict(X_test)\n",
    "print(\"...Terminer.\")\n",
    "print()\n",
    "\n",
    "print(\"#### Les 5 premières prédictions sur le set de test sont :  ####\")\n",
    "print(y_train_pred[0:5])"
   ]
  },
  {
   "cell_type": "markdown",
   "metadata": {},
   "source": [
    "# Évaluation de la précision du modèle de régression logistique"
   ]
  },
  {
   "cell_type": "code",
   "execution_count": 25,
   "metadata": {},
   "outputs": [
    {
     "name": "stdout",
     "output_type": "stream",
     "text": [
      "Accuracy on train set: 0.8975\n",
      "Accuracy on test set: 0.895\n"
     ]
    }
   ],
   "source": [
    "\n",
    "accuracy_train = accuracy_score(y_train, y_train_pred)\n",
    "\n",
    "accuracy_test = accuracy_score(y_test, y_test_pred)\n",
    "\n",
    "print(\"Accuracy on train set:\", accuracy_train)\n",
    "print(\"Accuracy on test set:\", accuracy_test)"
   ]
  },
  {
   "cell_type": "markdown",
   "metadata": {},
   "source": [
    "# Matrice de confusion "
   ]
  },
  {
   "cell_type": "code",
   "execution_count": 26,
   "metadata": {},
   "outputs": [
    {
     "data": {
      "image/png": "[encoded data removed]",
      "text/plain": [
       "<Figure size 640x480 with 2 Axes>"
      ]
     },
     "metadata": {},
     "output_type": "display_data"
    }
   ],
   "source": [
    "# Prédiction sur l'ensemble d'entraînement\n",
    "y_train_pred = classifier.predict(X_train)\n",
    "\n",
    "# Calcul de la matrice de confusion pour l'ensemble d'entraînement\n",
    "cm = confusion_matrix(y_train, y_train_pred)\n",
    "\n",
    "\n",
    "sns.heatmap(cm, annot=True, fmt='d', cmap='Reds')\n",
    "\n",
    "\n",
    "plt.title('Matrice de confusion (Ensemble d\\'entraînement)')\n",
    "plt.xlabel('Valeurs prédites')\n",
    "plt.ylabel('Valeurs réelles')\n",
    "\n",
    "\n",
    "plt.show()"
   ]
  },
  {
   "cell_type": "code",
   "execution_count": 27,
   "metadata": {},
   "outputs": [
    {
     "data": {
      "image/png": "[encoded data removed]",
      "text/plain": [
       "<Figure size 640x480 with 2 Axes>"
      ]
     },
     "metadata": {},
     "output_type": "display_data"
    }
   ],
   "source": [
    "\n",
    "# Prédiction sur l'ensemble de test\n",
    "y_test_pred = classifier.predict(X_test)\n",
    "\n",
    "# Calcul de la matrice de confusion pour l'ensemble de test\n",
    "cm = confusion_matrix(y_test, y_test_pred)\n",
    "\n",
    "\n",
    "sns.heatmap(cm, annot=True, fmt='d', cmap='Blues')\n",
    "\n",
    "\n",
    "plt.title('Matrice de confusion (Ensemble de test)')\n",
    "plt.xlabel('Valeurs prédites')\n",
    "plt.ylabel('Valeurs réelles')\n",
    "\n",
    "\n",
    "plt.show()"
   ]
  },
  {
   "cell_type": "code",
   "execution_count": 28,
   "metadata": {},
   "outputs": [
    {
     "name": "stdout",
     "output_type": "stream",
     "text": [
      "Coefficients are:  [[0.96650647 1.4015918  0.585848  ]]\n",
      "Intercept is:  [-3.04258597]\n",
      "All transformers are:  [ 7.963875 78.76125  57.756175] [  0.27208911  11.06251547 101.3277585 ]\n",
      "  feature_names  coefficients\n",
      "1     metascore      1.401592\n",
      "0        rating      0.966506\n",
      "2         gross      0.585848\n"
     ]
    }
   ],
   "source": [
    "# Affichage des coefficients et des transformateurs\n",
    "print(\"Coefficients are: \", classifier.coef_) \n",
    "print(\"Intercept is: \", classifier.intercept_)\n",
    "\n",
    "# Affichage des transformateurs\n",
    "print(\"All transformers are: \", std.mean_, std.scale_)\n",
    "\n",
    "\n",
    "feature_importance = pd.DataFrame({\n",
    "    \"feature_names\": ['rating', 'metascore', 'gross'],\n",
    "    \"coefficients\": classifier.coef_.squeeze()\n",
    "})\n",
    "feature_importance = feature_importance.sort_values(by='coefficients', ascending=False)\n",
    "print(feature_importance)"
   ]
  },
  {
   "cell_type": "code",
   "execution_count": 29,
   "metadata": {},
   "outputs": [
    {
     "data": {
      "text/plain": [
       "<seaborn.axisgrid.FacetGrid at 0x1c7a19b2750>"
      ]
     },
     "execution_count": 29,
     "metadata": {},
     "output_type": "execute_result"
    },
    {
     "data": {
      "image/png": "[encoded data removed]",
      "text/plain": [
       "<Figure size 888.889x500 with 1 Axes>"
      ]
     },
     "metadata": {},
     "output_type": "display_data"
    }
   ],
   "source": [
    "import warnings\n",
    "\n",
    "# Ignorer les avertissements seaborn\n",
    "warnings.filterwarnings(\"ignore\", category=UserWarning)\n",
    "\n",
    "feature_importance[\"coefficients\"] = feature_importance[\"coefficients\"].abs()\n",
    "\n",
    "sns.catplot(x=\"feature_names\", \n",
    "            y=\"coefficients\", \n",
    "            data=feature_importance.sort_values(by=\"coefficients\", ascending=False), \n",
    "            kind=\"bar\",\n",
    "            aspect=16/9) # Resize graph"
   ]
  },
  {
   "cell_type": "markdown",
   "metadata": {},
   "source": [
    "# Decision Tree sur le set d'entrainement et de test "
   ]
  },
  {
   "cell_type": "code",
   "execution_count": 30,
   "metadata": {},
   "outputs": [
    {
     "name": "stdout",
     "output_type": "stream",
     "text": [
      "Accuracy on train set: 1.0\n"
     ]
    },
    {
     "data": {
      "image/png": "[encoded data removed]",
      "text/plain": [
       "<Figure size 640x480 with 2 Axes>"
      ]
     },
     "metadata": {},
     "output_type": "display_data"
    }
   ],
   "source": [
    "\n",
    "classifier = DecisionTreeClassifier()\n",
    "\n",
    "\n",
    "classifier.fit(X_train, y_train)\n",
    "\n",
    "\n",
    "y_train_pred = classifier.predict(X_train)\n",
    "\n",
    "\n",
    "accuracy_train = accuracy_score(y_train, y_train_pred)\n",
    "print(\"Accuracy on train set:\", accuracy_train)\n",
    "\n",
    "\n",
    "cm_train = confusion_matrix(y_train, y_train_pred)\n",
    "\n",
    "\n",
    "sns.heatmap(cm_train, annot=True, fmt='d', cmap='Blues')\n",
    "\n",
    "\n",
    "plt.title('Matrice de confusion (Ensemble d\\'entraînement)')\n",
    "plt.xlabel('Valeurs prédites')\n",
    "plt.ylabel('Valeurs réelles')\n",
    "\n",
    "\n",
    "plt.show()"
   ]
  },
  {
   "cell_type": "code",
   "execution_count": 31,
   "metadata": {},
   "outputs": [
    {
     "name": "stdout",
     "output_type": "stream",
     "text": [
      "Accuracy on test set: 1.0\n"
     ]
    },
    {
     "data": {
      "image/png": "[encoded data removed]",
      "text/plain": [
       "<Figure size 640x480 with 2 Axes>"
      ]
     },
     "metadata": {},
     "output_type": "display_data"
    }
   ],
   "source": [
    "\n",
    "classifier = DecisionTreeClassifier()\n",
    "\n",
    "\n",
    "classifier.fit(X_train, y_train)\n",
    "\n",
    "\n",
    "y_test_pred = classifier.predict(X_test)\n",
    "\n",
    "\n",
    "accuracy_test = accuracy_score(y_test, y_test_pred)\n",
    "print(\"Accuracy on test set:\", accuracy_test)\n",
    "\n",
    "\n",
    "cm_test = confusion_matrix(y_test, y_test_pred)\n",
    "\n",
    "\n",
    "sns.heatmap(cm_test, annot=True, fmt='d', cmap='Reds')\n",
    "\n",
    "\n",
    "plt.title('Matrice de confusion (Ensemble de test)')\n",
    "plt.xlabel('Valeurs prédites')\n",
    "plt.ylabel('Valeurs réelles')\n",
    "\n",
    "\n",
    "plt.show()"
   ]
  },
  {
   "cell_type": "markdown",
   "metadata": {},
   "source": [
    "# Random Forest sur le set d'entrainement et de test "
   ]
  },
  {
   "cell_type": "code",
   "execution_count": 32,
   "metadata": {},
   "outputs": [
    {
     "name": "stdout",
     "output_type": "stream",
     "text": [
      "accuracy-score on train set :  1.0\n"
     ]
    },
    {
     "data": {
      "image/png": "[encoded data removed]",
      "text/plain": [
       "<Figure size 640x480 with 2 Axes>"
      ]
     },
     "metadata": {},
     "output_type": "display_data"
    }
   ],
   "source": [
    "\n",
    "classifier = RandomForestClassifier()\n",
    "\n",
    "\n",
    "classifier.fit(X_train, y_train)\n",
    "\n",
    "\n",
    "y_train_pred = classifier.predict(X_train)\n",
    "\n",
    "\n",
    "cm_train = confusion_matrix(y_train, y_train_pred)\n",
    "\n",
    "print(\"accuracy-score on train set : \", classifier.score(X_train, y_train))\n",
    "\n",
    "\n",
    "sns.heatmap(cm_train, annot=True, fmt='d', cmap='Blues')\n",
    "\n",
    "\n",
    "plt.title('Matrice de confusion (Ensemble d\\'entraînement)')\n",
    "plt.xlabel('Valeurs prédites')\n",
    "plt.ylabel('Valeurs réelles')\n",
    "\n",
    "plt.show()"
   ]
  },
  {
   "cell_type": "code",
   "execution_count": 33,
   "metadata": {},
   "outputs": [
    {
     "name": "stdout",
     "output_type": "stream",
     "text": [
      "Accuracy on test set: 1.0\n"
     ]
    },
    {
     "data": {
      "image/png": "[encoded data removed]",
      "text/plain": [
       "<Figure size 640x480 with 2 Axes>"
      ]
     },
     "metadata": {},
     "output_type": "display_data"
    }
   ],
   "source": [
    "\n",
    "classifier = RandomForestClassifier()\n",
    "\n",
    "\n",
    "classifier.fit(X_train, y_train)\n",
    "\n",
    "\n",
    "y_test_pred = classifier.predict(X_test)\n",
    "\n",
    "\n",
    "accuracy_test = accuracy_score(y_test, y_test_pred)\n",
    "print(\"Accuracy on test set:\", accuracy_test)\n",
    "\n",
    "\n",
    "cm = confusion_matrix(y_test, y_test_pred)\n",
    "\n",
    "\n",
    "sns.heatmap(cm, annot=True, fmt='d', cmap='Reds')\n",
    "\n",
    "\n",
    "plt.title('Matrice de confusion (Ensemble de test)')\n",
    "plt.xlabel('Valeurs prédites')\n",
    "plt.ylabel('Valeurs réelles')\n",
    "\n",
    "\n",
    "plt.show()"
   ]
  },
  {
   "cell_type": "markdown",
   "metadata": {},
   "source": [
    "# Prendre un film au hasard et voir s'il s'agit d'un 'succès' ou non "
   ]
  },
  {
   "cell_type": "code",
   "execution_count": 54,
   "metadata": {},
   "outputs": [
    {
     "name": "stdout",
     "output_type": "stream",
     "text": [
      "Seuil de rating : 7.96\n",
      "Seuil de metascore : 78.66\n",
      "Seuil de gross : 9.42\n",
      "\n",
      "Titre du film au hasard : The Truman Show\n",
      "    release_year\n",
      "155       (1998)\n",
      "     rating  metascore   gross\n",
      "155     8.2       90.0  125.62\n",
      "Succès prédit du film : 1\n"
     ]
    }
   ],
   "source": [
    "import random\n",
    "\n",
    "\n",
    "seuil_rating = 7.96\n",
    "seuil_metascore = 78.66\n",
    "seuil_gross = 9.42\n",
    "\n",
    "\n",
    "print(\"Seuil de rating :\", seuil_rating)\n",
    "print(\"Seuil de metascore :\", seuil_metascore)\n",
    "print(\"Seuil de gross :\", seuil_gross)\n",
    "\n",
    "\n",
    "titre_film_au_hasard = random.choice(df['title'])\n",
    "\n",
    "# Récupérer les caractéristiques du film sélectionné\n",
    "caracteristiques_film_au_hasard = df[df['title'] == titre_film_au_hasard]\n",
    "\n",
    "\n",
    "print(\"\\nTitre du film au hasard :\", titre_film_au_hasard)\n",
    "\n",
    " \n",
    "print(caracteristiques_film_au_hasard[['release_year']])\n",
    "\n",
    "\n",
    "print(caracteristiques_film_au_hasard[['rating', 'metascore', 'gross']])\n",
    "\n",
    "# Récupérer le succès prédit pour ce film\n",
    "succes_predit = df[df['title'] == titre_film_au_hasard]['success'].iloc[0]\n",
    "print(\"Succès prédit du film :\", succes_predit)\n"
   ]
  },
  {
   "cell_type": "markdown",
   "metadata": {},
   "source": [
    "# Quelques graphiques réalisés sur Tableau "
   ]
  },
  {
   "cell_type": "markdown",
   "metadata": {},
   "source": [
    "![alt text](réalisateursuccés.png)"
   ]
  },
  {
   "cell_type": "markdown",
   "metadata": {},
   "source": [
    "![alt text](successvsgenre.png)"
   ]
  },
  {
   "cell_type": "markdown",
   "metadata": {},
   "source": [
    "# Classement des films succès selon 'rating'"
   ]
  },
  {
   "cell_type": "code",
   "execution_count": 35,
   "metadata": {},
   "outputs": [
    {
     "name": "stdout",
     "output_type": "stream",
     "text": [
      "                                                 title  rating  metascore   gross  success\n",
      "0                             The Shawshank Redemption     9.3       82.0   28.34        1\n",
      "1                                        The Godfather     9.2      100.0  134.97        1\n",
      "2                                      The Dark Knight     9.0       84.0  534.86        1\n",
      "3                                     Schindler's List     9.0       95.0   96.90        1\n",
      "5        The Lord of the Rings: The Return of the King     9.0       94.0  377.85        1\n",
      "6                                The Godfather Part II     9.0       90.0   57.30        1\n",
      "8                                         Pulp Fiction     8.9       95.0  107.93        1\n",
      "10   The Lord of the Rings: The Fellowship of the Ring     8.8       92.0  315.54        1\n",
      "12                                        Forrest Gump     8.8       82.0  330.25        1\n",
      "14               The Lord of the Rings: The Two Towers     8.8       87.0  342.55        1\n",
      "18                                          Goodfellas     8.7       92.0   46.84        1\n",
      "20                     One Flew Over the Cuckoo's Nest     8.7       84.0  112.00        1\n",
      "21      Star Wars: Episode V - The Empire Strikes Back     8.7       82.0  290.48        1\n",
      "27                                 Saving Private Ryan     8.6       91.0  216.54        1\n",
      "28                            The Silence of the Lambs     8.6       86.0  130.74        1\n",
      "29                  Star Wars: Episode IV - A New Hope     8.6       90.0  322.74        1\n",
      "30                                       Spirited Away     8.6       96.0   10.06        1\n",
      "37                                  Back to the Future     8.5       87.0  210.61        1\n",
      "38                                        The Departed     8.5       85.0  132.38        1\n",
      "40                                               Alien     8.5       89.0   78.90        1\n",
      "41                                            Parasite     8.5       96.0   53.37        1\n",
      "43                                            Whiplash     8.5       89.0   13.09        1\n",
      "45                                       The Lion King     8.5       88.0  422.78        1\n",
      "49                                              Psycho     8.5       97.0   32.00        1\n",
      "50                                         The Pianist     8.5       85.0   32.57        1\n",
      "54                                         Rear Window     8.5      100.0   36.76        1\n",
      "55                                     Cinema Paradiso     8.5       80.0   11.99        1\n",
      "59       Indiana Jones and the Raiders of the Lost Ark     8.4       85.0  248.16        1\n",
      "60                   Spider-Man: Into the Spider-Verse     8.4       87.0  190.24        1\n",
      "62                                    Django Unchained     8.4       81.0  162.81        1\n",
      "63                                      Apocalypse Now     8.4       94.0   83.47        1\n",
      "64                                              Aliens     8.4       84.0   85.16        1\n",
      "70                                             Memento     8.4       83.0   25.54        1\n",
      "71                                             Amadeus     8.4       88.0   51.97        1\n",
      "73                                                Coco     8.4       81.0  209.73        1\n",
      "75                                              WALL·E     8.4       95.0  223.81        1\n",
      "77                                 The Lives of Others     8.4       89.0   11.29        1\n",
      "79                                            Das Boot     8.4       86.0   11.49        1\n",
      "95                                     American Beauty     8.3       84.0  130.10        1\n",
      "98               Eternal Sunshine of the Spotless Mind     8.3       89.0   34.40        1\n",
      "102                              2001: A Space Odyssey     8.3       84.0   56.95        1\n",
      "106                                          Toy Story     8.3       96.0  191.80        1\n",
      "108                                                 Up     8.3       88.0  293.00        1\n",
      "112                                 Lawrence of Arabia     8.3      100.0   44.82        1\n",
      "113                                        Toy Story 3     8.3       92.0  415.00        1\n",
      "115                                 North by Northwest     8.3       98.0   13.28        1\n",
      "120                                          The Sting     8.3       83.0  159.60        1\n",
      "123                                      The Apartment     8.3       94.0   18.60        1\n",
      "143                                There Will Be Blood     8.2       93.0   40.22        1\n",
      "146                             No Country for Old Men     8.2       92.0   74.28        1\n",
      "149                                        Taxi Driver     8.2       94.0   28.26        1\n",
      "154                                         Unforgiven     8.2       85.0  101.16        1\n",
      "155                                    The Truman Show     8.2       90.0  125.62        1\n",
      "158                                  L.A. Confidential     8.2       91.0   64.62        1\n",
      "160                                       Finding Nemo     8.2       90.0  380.84        1\n",
      "165                                 Gone with the Wind     8.2       97.0  198.68        1\n",
      "168                                    Pan's Labyrinth     8.2       98.0   37.63        1\n",
      "169                                   The Great Escape     8.2       86.0   12.10        1\n",
      "170                                   Some Like It Hot     8.2       98.0   25.00        1\n",
      "209                                               Jaws     8.1       87.0  260.00        1\n",
      "210                           The Grand Budapest Hotel     8.1       88.0   59.10        1\n",
      "213                                       Blade Runner     8.1       84.0   32.87        1\n",
      "214                                     The Terminator     8.1       84.0   38.40        1\n",
      "215                                 Mad Max: Fury Road     8.1       90.0  154.06        1\n",
      "216                                          Gone Girl     8.1       79.0  167.77        1\n",
      "217                                     Ford v Ferrari     8.1       81.0  117.62        1\n",
      "224                                        Ratatouille     8.1       96.0  206.45        1\n",
      "225       Harry Potter and the Deathly Hallows: Part 2     8.1       85.0  381.01        1\n",
      "226                                       The Exorcist     8.1       81.0  232.91        1\n",
      "227                                         Inside Out     8.1       94.0  356.46        1\n",
      "230                                  On the Waterfront     8.1       91.0    9.60        1\n",
      "231                                              Fargo     8.1       86.0   24.61        1\n",
      "232                                      Trainspotting     8.1       83.0   16.50        1\n",
      "234          Three Billboards Outside Ebbing, Missouri     8.1       88.0   54.51        1\n",
      "235                                 Dead Poets Society     8.1       79.0   95.86        1\n",
      "237                                    The Deer Hunter     8.1       86.0   48.98        1\n",
      "238                                     Monsters, Inc.     8.1       79.0  289.92        1\n",
      "240                                               Room     8.1       86.0   14.68        1\n",
      "243                                   12 Years a Slave     8.1       96.0   56.67        1\n",
      "244                                          Spotlight     8.1       93.0   45.06        1\n",
      "246                                            Platoon     8.1       92.0  138.53        1\n",
      "252                                Million Dollar Baby     8.1       86.0  100.49        1\n",
      "258                                        Raging Bull     8.1       90.0   23.38        1\n",
      "259                                     Cool Hand Luke     8.1       92.0   16.22        1\n",
      "260                                     The Iron Giant     8.1       85.0   23.16        1\n",
      "266                                            Ben-Hur     8.1       90.0   74.70        1\n",
      "269                       The Bridge on the River Kwai     8.1       87.0   44.91        1\n",
      "271                          In the Name of the Father     8.1       84.0   25.01        1\n",
      "272                                       Hotel Rwanda     8.1       79.0   23.53        1\n",
      "281                        The Best Years of Our Lives     8.1       93.0   23.65        1\n",
      "285                        A Woman Under the Influence     8.1       88.0   13.34        1\n",
      "344                                  Blade Runner 2049     8.0       81.0   92.05        1\n",
      "348                                         Black Swan     8.0       79.0  106.95        1\n",
      "351                                         La La Land     8.0       94.0  151.10        1\n",
      "352                                        The Martian     8.0       80.0  228.43        1\n",
      "354                                    The Incredibles     8.0       90.0  261.44        1\n",
      "355                                                Her     8.0       91.0   25.57        1\n",
      "357                                       The Graduate     8.0       83.0  104.95        1\n",
      "358                                      Casino Royale     8.0       80.0  167.45        1\n",
      "365                                Slumdog Millionaire     8.0       84.0  141.32        1\n",
      "369                                 Do the Right Thing     8.0       93.0   27.55        1\n",
      "370                                  Dog Day Afternoon     8.0       86.0   50.00        1\n",
      "371                                 Young Frankenstein     8.0       83.0   86.30        1\n",
      "372                                            Aladdin     8.0       86.0  217.35        1\n",
      "377                               Beauty and the Beast     8.0       95.0  218.97        1\n",
      "379                                          High Noon     8.0       89.0    9.45        1\n",
      "380                                 Planet of the Apes     8.0       79.0   33.40        1\n",
      "381                               The Bourne Ultimatum     8.0       85.0  227.47        1\n",
      "386                                  Kill Bill: Vol. 2     8.0       83.0   66.21        1\n",
      "389                                  The King's Speech     8.0       88.0  138.80        1\n",
      "395                                        Sling Blade     8.0       84.0   24.48        1\n",
      "400                                        Being There     8.0       83.0   30.18        1\n",
      "401                              The Last Picture Show     8.0       93.0   29.13        1\n",
      "403                                         Annie Hall     8.0       92.0   39.20        1\n",
      "408                                          Rio Bravo     8.0       93.0   12.54        1\n",
      "414                                      La Dolce Vita     8.0       95.0   19.52        1\n",
      "415                                             Gandhi     8.0       79.0   52.77        1\n",
      "421                                Anatomy of a Murder     8.0       95.0   11.90        1\n",
      "436                                     Secrets & Lies     8.0       91.0   13.42        1\n",
      "Nombre de lignes : 119\n"
     ]
    }
   ],
   "source": [
    "success_films = df[df['success'] == 1]  # Filtrer les films avec succès\n",
    "success_films_info = success_films[['title', 'rating', 'metascore', 'gross', 'success']]\n",
    "\n",
    "\n",
    "print(success_films_info.to_string())\n",
    "\n",
    "print('Nombre de lignes :',success_films_info.shape[0])"
   ]
  },
  {
   "cell_type": "markdown",
   "metadata": {},
   "source": [
    "# Classement des films succès selon 'metascore'"
   ]
  },
  {
   "cell_type": "code",
   "execution_count": 55,
   "metadata": {},
   "outputs": [
    {
     "name": "stdout",
     "output_type": "stream",
     "text": [
      "                                                 title  rating  metascore   gross  success\n",
      "112                                 Lawrence of Arabia     8.3      100.0   44.82        1\n",
      "54                                         Rear Window     8.5      100.0   36.76        1\n",
      "1                                        The Godfather     9.2      100.0  134.97        1\n",
      "168                                    Pan's Labyrinth     8.2       98.0   37.63        1\n",
      "115                                 North by Northwest     8.3       98.0   13.28        1\n",
      "170                                   Some Like It Hot     8.2       98.0   25.00        1\n",
      "49                                              Psycho     8.5       97.0   32.00        1\n",
      "165                                 Gone with the Wind     8.2       97.0  198.68        1\n",
      "243                                   12 Years a Slave     8.1       96.0   56.67        1\n",
      "106                                          Toy Story     8.3       96.0  191.80        1\n",
      "41                                            Parasite     8.5       96.0   53.37        1\n",
      "224                                        Ratatouille     8.1       96.0  206.45        1\n",
      "30                                       Spirited Away     8.6       96.0   10.06        1\n",
      "8                                         Pulp Fiction     8.9       95.0  107.93        1\n",
      "75                                              WALL·E     8.4       95.0  223.81        1\n",
      "377                               Beauty and the Beast     8.0       95.0  218.97        1\n",
      "414                                      La Dolce Vita     8.0       95.0   19.52        1\n",
      "421                                Anatomy of a Murder     8.0       95.0   11.90        1\n",
      "3                                     Schindler's List     9.0       95.0   96.90        1\n",
      "5        The Lord of the Rings: The Return of the King     9.0       94.0  377.85        1\n",
      "149                                        Taxi Driver     8.2       94.0   28.26        1\n",
      "63                                      Apocalypse Now     8.4       94.0   83.47        1\n",
      "123                                      The Apartment     8.3       94.0   18.60        1\n",
      "351                                         La La Land     8.0       94.0  151.10        1\n",
      "227                                         Inside Out     8.1       94.0  356.46        1\n",
      "401                              The Last Picture Show     8.0       93.0   29.13        1\n",
      "369                                 Do the Right Thing     8.0       93.0   27.55        1\n",
      "244                                          Spotlight     8.1       93.0   45.06        1\n",
      "143                                There Will Be Blood     8.2       93.0   40.22        1\n",
      "408                                          Rio Bravo     8.0       93.0   12.54        1\n",
      "281                        The Best Years of Our Lives     8.1       93.0   23.65        1\n",
      "146                             No Country for Old Men     8.2       92.0   74.28        1\n",
      "113                                        Toy Story 3     8.3       92.0  415.00        1\n",
      "246                                            Platoon     8.1       92.0  138.53        1\n",
      "403                                         Annie Hall     8.0       92.0   39.20        1\n",
      "18                                          Goodfellas     8.7       92.0   46.84        1\n",
      "10   The Lord of the Rings: The Fellowship of the Ring     8.8       92.0  315.54        1\n",
      "259                                     Cool Hand Luke     8.1       92.0   16.22        1\n",
      "436                                     Secrets & Lies     8.0       91.0   13.42        1\n",
      "158                                  L.A. Confidential     8.2       91.0   64.62        1\n",
      "355                                                Her     8.0       91.0   25.57        1\n",
      "230                                  On the Waterfront     8.1       91.0    9.60        1\n",
      "27                                 Saving Private Ryan     8.6       91.0  216.54        1\n",
      "155                                    The Truman Show     8.2       90.0  125.62        1\n",
      "160                                       Finding Nemo     8.2       90.0  380.84        1\n",
      "215                                 Mad Max: Fury Road     8.1       90.0  154.06        1\n",
      "258                                        Raging Bull     8.1       90.0   23.38        1\n",
      "266                                            Ben-Hur     8.1       90.0   74.70        1\n",
      "6                                The Godfather Part II     9.0       90.0   57.30        1\n",
      "354                                    The Incredibles     8.0       90.0  261.44        1\n",
      "29                  Star Wars: Episode IV - A New Hope     8.6       90.0  322.74        1\n",
      "43                                            Whiplash     8.5       89.0   13.09        1\n",
      "379                                          High Noon     8.0       89.0    9.45        1\n",
      "77                                 The Lives of Others     8.4       89.0   11.29        1\n",
      "98               Eternal Sunshine of the Spotless Mind     8.3       89.0   34.40        1\n",
      "40                                               Alien     8.5       89.0   78.90        1\n",
      "389                                  The King's Speech     8.0       88.0  138.80        1\n",
      "210                           The Grand Budapest Hotel     8.1       88.0   59.10        1\n",
      "108                                                 Up     8.3       88.0  293.00        1\n",
      "234          Three Billboards Outside Ebbing, Missouri     8.1       88.0   54.51        1\n",
      "45                                       The Lion King     8.5       88.0  422.78        1\n",
      "285                        A Woman Under the Influence     8.1       88.0   13.34        1\n",
      "71                                             Amadeus     8.4       88.0   51.97        1\n",
      "269                       The Bridge on the River Kwai     8.1       87.0   44.91        1\n",
      "209                                               Jaws     8.1       87.0  260.00        1\n",
      "37                                  Back to the Future     8.5       87.0  210.61        1\n",
      "60                   Spider-Man: Into the Spider-Verse     8.4       87.0  190.24        1\n",
      "14               The Lord of the Rings: The Two Towers     8.8       87.0  342.55        1\n",
      "372                                            Aladdin     8.0       86.0  217.35        1\n",
      "252                                Million Dollar Baby     8.1       86.0  100.49        1\n",
      "370                                  Dog Day Afternoon     8.0       86.0   50.00        1\n",
      "231                                              Fargo     8.1       86.0   24.61        1\n",
      "169                                   The Great Escape     8.2       86.0   12.10        1\n",
      "237                                    The Deer Hunter     8.1       86.0   48.98        1\n",
      "240                                               Room     8.1       86.0   14.68        1\n",
      "28                            The Silence of the Lambs     8.6       86.0  130.74        1\n",
      "79                                            Das Boot     8.4       86.0   11.49        1\n",
      "50                                         The Pianist     8.5       85.0   32.57        1\n",
      "381                               The Bourne Ultimatum     8.0       85.0  227.47        1\n",
      "59       Indiana Jones and the Raiders of the Lost Ark     8.4       85.0  248.16        1\n",
      "38                                        The Departed     8.5       85.0  132.38        1\n",
      "260                                     The Iron Giant     8.1       85.0   23.16        1\n",
      "225       Harry Potter and the Deathly Hallows: Part 2     8.1       85.0  381.01        1\n",
      "154                                         Unforgiven     8.2       85.0  101.16        1\n",
      "95                                     American Beauty     8.3       84.0  130.10        1\n",
      "365                                Slumdog Millionaire     8.0       84.0  141.32        1\n",
      "214                                     The Terminator     8.1       84.0   38.40        1\n",
      "213                                       Blade Runner     8.1       84.0   32.87        1\n",
      "102                              2001: A Space Odyssey     8.3       84.0   56.95        1\n",
      "395                                        Sling Blade     8.0       84.0   24.48        1\n",
      "64                                              Aliens     8.4       84.0   85.16        1\n",
      "271                          In the Name of the Father     8.1       84.0   25.01        1\n",
      "20                     One Flew Over the Cuckoo's Nest     8.7       84.0  112.00        1\n",
      "2                                      The Dark Knight     9.0       84.0  534.86        1\n",
      "400                                        Being There     8.0       83.0   30.18        1\n",
      "371                                 Young Frankenstein     8.0       83.0   86.30        1\n",
      "386                                  Kill Bill: Vol. 2     8.0       83.0   66.21        1\n",
      "232                                      Trainspotting     8.1       83.0   16.50        1\n",
      "70                                             Memento     8.4       83.0   25.54        1\n",
      "357                                       The Graduate     8.0       83.0  104.95        1\n",
      "120                                          The Sting     8.3       83.0  159.60        1\n",
      "12                                        Forrest Gump     8.8       82.0  330.25        1\n",
      "21      Star Wars: Episode V - The Empire Strikes Back     8.7       82.0  290.48        1\n",
      "0                             The Shawshank Redemption     9.3       82.0   28.34        1\n",
      "217                                     Ford v Ferrari     8.1       81.0  117.62        1\n",
      "344                                  Blade Runner 2049     8.0       81.0   92.05        1\n",
      "62                                    Django Unchained     8.4       81.0  162.81        1\n",
      "73                                                Coco     8.4       81.0  209.73        1\n",
      "226                                       The Exorcist     8.1       81.0  232.91        1\n",
      "358                                      Casino Royale     8.0       80.0  167.45        1\n",
      "55                                     Cinema Paradiso     8.5       80.0   11.99        1\n",
      "352                                        The Martian     8.0       80.0  228.43        1\n",
      "380                                 Planet of the Apes     8.0       79.0   33.40        1\n",
      "216                                          Gone Girl     8.1       79.0  167.77        1\n",
      "272                                       Hotel Rwanda     8.1       79.0   23.53        1\n",
      "238                                     Monsters, Inc.     8.1       79.0  289.92        1\n",
      "235                                 Dead Poets Society     8.1       79.0   95.86        1\n",
      "415                                             Gandhi     8.0       79.0   52.77        1\n",
      "348                                         Black Swan     8.0       79.0  106.95        1\n"
     ]
    }
   ],
   "source": [
    "success_films_info_sorted = success_films_info.sort_values(by='metascore', ascending=False)\n",
    "print(success_films_info_sorted.to_string())\n"
   ]
  },
  {
   "cell_type": "markdown",
   "metadata": {},
   "source": [
    "# Classement des films succès selon 'gross'"
   ]
  },
  {
   "cell_type": "code",
   "execution_count": 56,
   "metadata": {},
   "outputs": [
    {
     "name": "stdout",
     "output_type": "stream",
     "text": [
      "                                                 title  rating  metascore   gross  success\n",
      "2                                      The Dark Knight     9.0       84.0  534.86        1\n",
      "45                                       The Lion King     8.5       88.0  422.78        1\n",
      "113                                        Toy Story 3     8.3       92.0  415.00        1\n",
      "225       Harry Potter and the Deathly Hallows: Part 2     8.1       85.0  381.01        1\n",
      "160                                       Finding Nemo     8.2       90.0  380.84        1\n",
      "5        The Lord of the Rings: The Return of the King     9.0       94.0  377.85        1\n",
      "227                                         Inside Out     8.1       94.0  356.46        1\n",
      "14               The Lord of the Rings: The Two Towers     8.8       87.0  342.55        1\n",
      "12                                        Forrest Gump     8.8       82.0  330.25        1\n",
      "29                  Star Wars: Episode IV - A New Hope     8.6       90.0  322.74        1\n",
      "10   The Lord of the Rings: The Fellowship of the Ring     8.8       92.0  315.54        1\n",
      "108                                                 Up     8.3       88.0  293.00        1\n",
      "21      Star Wars: Episode V - The Empire Strikes Back     8.7       82.0  290.48        1\n",
      "238                                     Monsters, Inc.     8.1       79.0  289.92        1\n",
      "354                                    The Incredibles     8.0       90.0  261.44        1\n",
      "209                                               Jaws     8.1       87.0  260.00        1\n",
      "59       Indiana Jones and the Raiders of the Lost Ark     8.4       85.0  248.16        1\n",
      "226                                       The Exorcist     8.1       81.0  232.91        1\n",
      "352                                        The Martian     8.0       80.0  228.43        1\n",
      "381                               The Bourne Ultimatum     8.0       85.0  227.47        1\n",
      "75                                              WALL·E     8.4       95.0  223.81        1\n",
      "377                               Beauty and the Beast     8.0       95.0  218.97        1\n",
      "372                                            Aladdin     8.0       86.0  217.35        1\n",
      "27                                 Saving Private Ryan     8.6       91.0  216.54        1\n",
      "37                                  Back to the Future     8.5       87.0  210.61        1\n",
      "73                                                Coco     8.4       81.0  209.73        1\n",
      "224                                        Ratatouille     8.1       96.0  206.45        1\n",
      "165                                 Gone with the Wind     8.2       97.0  198.68        1\n",
      "106                                          Toy Story     8.3       96.0  191.80        1\n",
      "60                   Spider-Man: Into the Spider-Verse     8.4       87.0  190.24        1\n",
      "216                                          Gone Girl     8.1       79.0  167.77        1\n",
      "358                                      Casino Royale     8.0       80.0  167.45        1\n",
      "62                                    Django Unchained     8.4       81.0  162.81        1\n",
      "120                                          The Sting     8.3       83.0  159.60        1\n",
      "215                                 Mad Max: Fury Road     8.1       90.0  154.06        1\n",
      "351                                         La La Land     8.0       94.0  151.10        1\n",
      "365                                Slumdog Millionaire     8.0       84.0  141.32        1\n",
      "389                                  The King's Speech     8.0       88.0  138.80        1\n",
      "246                                            Platoon     8.1       92.0  138.53        1\n",
      "1                                        The Godfather     9.2      100.0  134.97        1\n",
      "38                                        The Departed     8.5       85.0  132.38        1\n",
      "28                            The Silence of the Lambs     8.6       86.0  130.74        1\n",
      "95                                     American Beauty     8.3       84.0  130.10        1\n",
      "155                                    The Truman Show     8.2       90.0  125.62        1\n",
      "217                                     Ford v Ferrari     8.1       81.0  117.62        1\n",
      "20                     One Flew Over the Cuckoo's Nest     8.7       84.0  112.00        1\n",
      "8                                         Pulp Fiction     8.9       95.0  107.93        1\n",
      "348                                         Black Swan     8.0       79.0  106.95        1\n",
      "357                                       The Graduate     8.0       83.0  104.95        1\n",
      "154                                         Unforgiven     8.2       85.0  101.16        1\n",
      "252                                Million Dollar Baby     8.1       86.0  100.49        1\n",
      "3                                     Schindler's List     9.0       95.0   96.90        1\n",
      "235                                 Dead Poets Society     8.1       79.0   95.86        1\n",
      "344                                  Blade Runner 2049     8.0       81.0   92.05        1\n",
      "371                                 Young Frankenstein     8.0       83.0   86.30        1\n",
      "64                                              Aliens     8.4       84.0   85.16        1\n",
      "63                                      Apocalypse Now     8.4       94.0   83.47        1\n",
      "40                                               Alien     8.5       89.0   78.90        1\n",
      "266                                            Ben-Hur     8.1       90.0   74.70        1\n",
      "146                             No Country for Old Men     8.2       92.0   74.28        1\n",
      "386                                  Kill Bill: Vol. 2     8.0       83.0   66.21        1\n",
      "158                                  L.A. Confidential     8.2       91.0   64.62        1\n",
      "210                           The Grand Budapest Hotel     8.1       88.0   59.10        1\n",
      "6                                The Godfather Part II     9.0       90.0   57.30        1\n",
      "102                              2001: A Space Odyssey     8.3       84.0   56.95        1\n",
      "243                                   12 Years a Slave     8.1       96.0   56.67        1\n",
      "234          Three Billboards Outside Ebbing, Missouri     8.1       88.0   54.51        1\n",
      "41                                            Parasite     8.5       96.0   53.37        1\n",
      "415                                             Gandhi     8.0       79.0   52.77        1\n",
      "71                                             Amadeus     8.4       88.0   51.97        1\n",
      "370                                  Dog Day Afternoon     8.0       86.0   50.00        1\n",
      "237                                    The Deer Hunter     8.1       86.0   48.98        1\n",
      "18                                          Goodfellas     8.7       92.0   46.84        1\n",
      "244                                          Spotlight     8.1       93.0   45.06        1\n",
      "269                       The Bridge on the River Kwai     8.1       87.0   44.91        1\n",
      "112                                 Lawrence of Arabia     8.3      100.0   44.82        1\n",
      "143                                There Will Be Blood     8.2       93.0   40.22        1\n",
      "403                                         Annie Hall     8.0       92.0   39.20        1\n",
      "214                                     The Terminator     8.1       84.0   38.40        1\n",
      "168                                    Pan's Labyrinth     8.2       98.0   37.63        1\n",
      "54                                         Rear Window     8.5      100.0   36.76        1\n",
      "98               Eternal Sunshine of the Spotless Mind     8.3       89.0   34.40        1\n",
      "380                                 Planet of the Apes     8.0       79.0   33.40        1\n",
      "213                                       Blade Runner     8.1       84.0   32.87        1\n",
      "50                                         The Pianist     8.5       85.0   32.57        1\n",
      "49                                              Psycho     8.5       97.0   32.00        1\n",
      "400                                        Being There     8.0       83.0   30.18        1\n",
      "401                              The Last Picture Show     8.0       93.0   29.13        1\n",
      "0                             The Shawshank Redemption     9.3       82.0   28.34        1\n",
      "149                                        Taxi Driver     8.2       94.0   28.26        1\n",
      "369                                 Do the Right Thing     8.0       93.0   27.55        1\n",
      "355                                                Her     8.0       91.0   25.57        1\n",
      "70                                             Memento     8.4       83.0   25.54        1\n",
      "271                          In the Name of the Father     8.1       84.0   25.01        1\n",
      "170                                   Some Like It Hot     8.2       98.0   25.00        1\n",
      "231                                              Fargo     8.1       86.0   24.61        1\n",
      "395                                        Sling Blade     8.0       84.0   24.48        1\n",
      "281                        The Best Years of Our Lives     8.1       93.0   23.65        1\n",
      "272                                       Hotel Rwanda     8.1       79.0   23.53        1\n",
      "258                                        Raging Bull     8.1       90.0   23.38        1\n",
      "260                                     The Iron Giant     8.1       85.0   23.16        1\n",
      "414                                      La Dolce Vita     8.0       95.0   19.52        1\n",
      "123                                      The Apartment     8.3       94.0   18.60        1\n",
      "232                                      Trainspotting     8.1       83.0   16.50        1\n",
      "259                                     Cool Hand Luke     8.1       92.0   16.22        1\n",
      "240                                               Room     8.1       86.0   14.68        1\n",
      "436                                     Secrets & Lies     8.0       91.0   13.42        1\n",
      "285                        A Woman Under the Influence     8.1       88.0   13.34        1\n",
      "115                                 North by Northwest     8.3       98.0   13.28        1\n",
      "43                                            Whiplash     8.5       89.0   13.09        1\n",
      "408                                          Rio Bravo     8.0       93.0   12.54        1\n",
      "169                                   The Great Escape     8.2       86.0   12.10        1\n",
      "55                                     Cinema Paradiso     8.5       80.0   11.99        1\n",
      "421                                Anatomy of a Murder     8.0       95.0   11.90        1\n",
      "79                                            Das Boot     8.4       86.0   11.49        1\n",
      "77                                 The Lives of Others     8.4       89.0   11.29        1\n",
      "30                                       Spirited Away     8.6       96.0   10.06        1\n",
      "230                                  On the Waterfront     8.1       91.0    9.60        1\n",
      "379                                          High Noon     8.0       89.0    9.45        1\n"
     ]
    }
   ],
   "source": [
    "success_films_info_sorted = success_films_info.sort_values(by='gross', ascending=False)\n",
    "print(success_films_info_sorted.to_string())\n"
   ]
  },
  {
   "cell_type": "markdown",
   "metadata": {},
   "source": [
    "# Recommandations \n",
    "\n",
    "- Ajouter plus de films au jeu de données pour mieux évaluer la performance. \n",
    "- Approfondir l'analyse des critères utilisés pour déterminer le succès d'un film. Explorez la possibilité d'inclure d'autres variables\n"
   ]
  },
  {
   "cell_type": "code",
   "execution_count": null,
   "metadata": {},
   "outputs": [],
   "source": []
  }
 ],
 "metadata": {
  "kernelspec": {
   "display_name": "base",
   "language": "python",
   "name": "python3"
  },
  "language_info": {
   "codemirror_mode": {
    "name": "ipython",
    "version": 3
   },
   "file_extension": ".py",
   "mimetype": "text/x-python",
   "name": "python",
   "nbconvert_exporter": "python",
   "pygments_lexer": "ipython3",
   "version": "3.11.5"
  }
 },
 "nbformat": 4,
 "nbformat_minor": 2
}
